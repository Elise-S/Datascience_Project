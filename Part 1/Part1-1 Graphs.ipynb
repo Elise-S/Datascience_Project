{
 "cells": [
  {
   "cell_type": "code",
   "execution_count": null,
   "id": "79da6320",
   "metadata": {},
   "outputs": [],
   "source": [
    "%pip install rdflib\n",
    "%pip install SPARQLWrapper"
   ]
  },
  {
   "cell_type": "code",
   "execution_count": null,
   "id": "d552828a",
   "metadata": {},
   "outputs": [],
   "source": [
    "import requests\n",
    "import re\n",
    "from bs4 import BeautifulSoup\n",
    "import wikipedia as wkp\n",
    "import os\n",
    "import rdflib\n",
    "from rdflib.namespace import RDF, RDFS, OWL, FOAF \n",
    "from pprint import pprint\n",
    "from SPARQLWrapper import SPARQLWrapper, JSON\n",
    "from collections import Counter"
   ]
  },
  {
   "cell_type": "code",
   "execution_count": null,
   "id": "cc073b93",
   "metadata": {},
   "outputs": [],
   "source": [
    "def get_rdf_triples(name):\n",
    "    \"\"\"Function that take the name of a person and return its triples, to be able to save them later\"\"\"\n",
    "    sparql = SPARQLWrapper(\"https://dbpedia.org/sparql\")\n",
    "    encoded_name = name.replace(' ', '_')\n",
    "   \n",
    "    query = f\"\"\"\n",
    "    SELECT DISTINCT ?subject ?predicate ?object\n",
    "    WHERE {{\n",
    "      {{\n",
    "        ?subject ?predicate dbr:{encoded_name} .\n",
    "        ?subject ?predicate ?object .\n",
    "      }}\n",
    "      UNION\n",
    "      {{\n",
    "        ?object ?predicate dbr:{encoded_name} .\n",
    "        ?subject ?predicate ?object .\n",
    "      }}\n",
    "    }}\n",
    "    LIMIT 100\n",
    "    \"\"\"\n",
    "    sparql.setQuery(query)\n",
    "    sparql.setReturnFormat(JSON)\n",
    "    results = sparql.query().convert()\n",
    "    triples = []\n",
    "    for result in results[\"results\"][\"bindings\"]:\n",
    "        predicate = result[\"predicate\"][\"value\"]\n",
    "        obj = result[\"object\"][\"value\"]\n",
    "        triples.append({'subject': f\"http://dbpedia.org/resource/{encoded_name}\", 'predicate': predicate, 'object': obj})\n",
    "    return triples"
   ]
  },
  {
   "cell_type": "code",
   "execution_count": null,
   "id": "12d3f830",
   "metadata": {},
   "outputs": [],
   "source": [
    "def save_rdf_triples(list_names, output_dir):\n",
    "    \"\"\"Function that save the triples in one file per person\"\"\"\n",
    "    category_dir = os.path.join(output_dir)\n",
    "    os.makedirs(category_dir, exist_ok=True)\n",
    "\n",
    "    for name in list_names:\n",
    "        try:\n",
    "            triples = get_rdf_triples(name)\n",
    "\n",
    "            if triples:\n",
    "                output_file = os.path.join(category_dir, f\"{name}.json\")\n",
    "                with open(output_file, 'w', encoding='utf-8') as f:\n",
    "                    json.dump(triples, f, indent=4)\n",
    "            else:\n",
    "                print(f\"No RDF triples found for {name}\")\n",
    "\n",
    "        except Exception as e:\n",
    "            print(f\"Error processing {name}: {e}\")"
   ]
  },
  {
   "cell_type": "code",
   "execution_count": null,
   "id": "f576c0ae",
   "metadata": {},
   "outputs": [],
   "source": [
    "#Open the Mina's json file for the names list, put them in a list and clean them a bit\n",
    "\n",
    "with open(r'C:\\Users\\Elise\\Downloads\\names100_list.json', 'r') as f:\n",
    "    content = json.load(f)\n",
    "\n",
    "keys = list(content.keys())\n",
    "fem_math = keys[0]\n",
    "contem_art = keys[1]\n",
    "mathematician_list_names = content[fem_math]\n",
    "artist_list_names = content[contem_art]\n",
    "\n",
    "for x in mathematician_list_names:\n",
    "    math_cleaned_names = [re.sub(r'\\s*\\(.*?\\)', '', x) for x in mathematician_list_names]\n",
    "\n",
    "for x in artist_list_names:\n",
    "    art_cleaned_names = [re.sub(r'\\s*\\(.*?\\)', '', x) for x in artist_list_names]\n",
    "\n",
    "print(math_cleaned_names, '\\n', art_cleaned_names)"
   ]
  },
  {
   "cell_type": "code",
   "execution_count": null,
   "id": "9e60ce98",
   "metadata": {},
   "outputs": [],
   "source": [
    "save_rdf_triples(math_cleaned_names, 'Female_mathematicians_rdf')\n",
    "save_rdf_triples(art_cleaned_names, 'Contemporary_artists_rdf')"
   ]
  },
  {
   "cell_type": "code",
   "execution_count": null,
   "id": "f51c752a",
   "metadata": {},
   "outputs": [],
   "source": [
    "#function to get all the facts from the objects of the graphs \n",
    "\n",
    "def get_facts(rdf_directory, name_list):\n",
    "    \"\"\"Function that take the directory created in save_rdf_triples and a list a names\n",
    "    to return the facts (part of the objects of the rdf graph) as a dictionary containing \n",
    "    as keys the names and as values the facts associated to it\"\"\"\n",
    "    directory_path = fr\"{os.getcwd()}\\{rdf_directory}\"\n",
    "\n",
    "    for filename in os.listdir(directory_path):\n",
    "        file_path = os.path.join(directory_path, filename)\n",
    "        with open(file_path, 'r', encoding='utf-8') as file:\n",
    "            # Load the content of the JSON file\n",
    "            content = json.load(file)              #iterate inside json files and load content\n",
    "\n",
    "        list_obj = []\n",
    "        for dicts in content:    # iterate inside the file (list of dicts)\n",
    "            for obj in dicts:    # iterate inside the dicts of one file\n",
    "                keys = list(dicts.keys())    #obtain list of the keys of a dict\n",
    "                object_url = dicts[keys[2]]  #get the third value of a dict (the object)\n",
    "                list_obj.append(object_url)  #put all objets in a list\n",
    "\n",
    "        list_facts = [o.split('/')[-1] for o in list_obj]  #iterate inside the list of object to put the facts in a new list\n",
    "\n",
    "    for name in name_list:\n",
    "        facts[f\"{name}\"] = list_facts\n",
    "\n",
    "    print(facts)\n",
    "    return(facts)"
   ]
  },
  {
   "cell_type": "code",
   "execution_count": null,
   "id": "6c528b96",
   "metadata": {},
   "outputs": [],
   "source": [
    "math_dict = get_facts(\"Female_mathematicians_rdf\", math_cleaned_names)\n",
    "art_dict = get_facts(\"Contemporary_artists_rdf\", art_cleaned_names)"
   ]
  },
  {
   "cell_type": "code",
   "execution_count": null,
   "id": "a90d656a",
   "metadata": {},
   "outputs": [],
   "source": [
    "\n",
    "\n",
    "##add graph parsers\n",
    "\n",
    "properties = set()\n",
    "\n",
    "for s, p, o in g:\n",
    "    properties.add(p)\n",
    "\n",
    "properties_list = list(properties)\n",
    "#print(properties_list)\n",
    "\n",
    "counter = Counter(properties_list)\n",
    "most_common_elements = counter.most_common(30)\n",
    "\n",
    "for element, count in most_common_elements:\n",
    "    print(f'Element: {element}, Count: {count}')\n",
    "    \n",
    "most_common_values = [element for element, count in most_common_elements]\n",
    "print(most_common_values)"
   ]
  }
 ],
 "metadata": {
  "kernelspec": {
   "display_name": "Python 3 (ipykernel)",
   "language": "python",
   "name": "python3"
  },
  "language_info": {
   "codemirror_mode": {
    "name": "ipython",
    "version": 3
   },
   "file_extension": ".py",
   "mimetype": "text/x-python",
   "name": "python",
   "nbconvert_exporter": "python",
   "pygments_lexer": "ipython3",
   "version": "3.11.5"
  }
 },
 "nbformat": 4,
 "nbformat_minor": 5
}
